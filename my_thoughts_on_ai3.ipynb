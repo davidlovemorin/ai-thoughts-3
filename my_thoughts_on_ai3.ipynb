{
  "nbformat": 4,
  "nbformat_minor": 0,
  "metadata": {
    "colab": {
      "provenance": [],
      "authorship_tag": "ABX9TyMiS2toWfbMUFtvU3pJ42un",
      "include_colab_link": true
    },
    "kernelspec": {
      "name": "python3",
      "display_name": "Python 3"
    },
    "language_info": {
      "name": "python"
    }
  },
  "cells": [
    {
      "cell_type": "markdown",
      "metadata": {
        "id": "view-in-github",
        "colab_type": "text"
      },
      "source": [
        "<a href=\"https://colab.research.google.com/github/davidlovemorin/ai-thoughts-3/blob/main/my_thoughts_on_ai3.ipynb\" target=\"_parent\"><img src=\"https://colab.research.google.com/assets/colab-badge.svg\" alt=\"Open In Colab\"/></a>"
      ]
    },
    {
      "cell_type": "code",
      "execution_count": null,
      "metadata": {
        "id": "7vNdnrAOxn7C"
      },
      "outputs": [],
      "source": []
    },
    {
      "cell_type": "markdown",
      "source": [
        "## Things that I want to do with AI\n",
        "\n",
        "* Explore\n",
        "\n",
        "* work in surgery and radiology with my efforts"
      ],
      "metadata": {
        "id": "wVUm314tyVBY"
      }
    },
    {
      "cell_type": "markdown",
      "source": [
        "this is an attempt of many , happy times ahead.\n"
      ],
      "metadata": {
        "id": "itWH14Enx-wD"
      }
    },
    {
      "cell_type": "markdown",
      "source": [
        "much more happy times\n"
      ],
      "metadata": {
        "id": "XYCwwgT6yMkO"
      }
    }
  ]
}